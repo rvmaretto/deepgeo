{
 "cells": [
  {
   "cell_type": "code",
   "execution_count": null,
   "metadata": {},
   "outputs": [],
   "source": [
    "import sys\n",
    "sys.path.append(\"../src\")\n",
    "%load_ext autoreload\n",
    "%autoreload 2"
   ]
  },
  {
   "cell_type": "code",
   "execution_count": null,
   "metadata": {
    "colab": {
     "base_uri": "https://localhost:8080/",
     "height": 72
    },
    "colab_type": "code",
    "id": "W0zLTiZS39-X",
    "outputId": "5f5a4f18-ce41-4de0-e59a-0ae6b700f5f1"
   },
   "outputs": [],
   "source": [
    "import numpy as np\n",
    "import gdal\n",
    "import os\n",
    "from deepgeo.dataset import rasterizer\n",
    "import deepgeo.dataset.preprocessor as prep\n",
    "import deepgeo.common.geofunctions as gf\n",
    "import deepgeo.common.visualization as vis\n",
    "import deepgeo.dataset.dataset_generator as dg\n",
    "import deepgeo.dataset.data_augment as dtaug\n",
    "import deepgeo.networks.model_builder as mb"
   ]
  },
  {
   "cell_type": "code",
   "execution_count": null,
   "metadata": {
    "colab": {},
    "colab_type": "code",
    "id": "LTpZp_t_Pbp3"
   },
   "outputs": [],
   "source": [
    "from pathlib import Path\n",
    "#%% Load files\n",
    "samples_path = Path('../data/chips/samples/')\n",
    "labels_path = Path('../data/chips/labels/')\n",
    "sample_files = [file for file in sorted(samples_path.glob('*.tif'))]\n",
    "sample_imgs = []\n",
    "label_imgs = []\n",
    "for file in sample_files:    \n",
    "    path_sample = file.resolve().as_posix()\n",
    "    preproc = prep.Preprocessor(path_sample, no_data=-1)\n",
    "    preproc.standardize_image('norm_range', {\"min\":0, \"max\":1})\n",
    "    img_sample = preproc.get_array_stacked_raster()\n",
    "    sample_imgs.append(img_sample)\n",
    "    path_label = labels_path.joinpath(file.name).resolve().as_posix()\n",
    "    img_label = gf.load_image(path_label,no_data=-1).astype(np.int32)\n",
    "    label_imgs.append(img_label)\n"
   ]
  },
  {
   "cell_type": "code",
   "execution_count": null,
   "metadata": {
    "colab": {
     "base_uri": "https://localhost:8080/",
     "height": 1000
    },
    "colab_type": "code",
    "id": "4MfdYKtMEf0H",
    "outputId": "c657b5e0-4549-451f-b27c-3d5f8c6d8b58"
   },
   "outputs": [],
   "source": [
    "indices = np.random.choice(len(sample_imgs), 4, replace=False)\n",
    "\n",
    "import matplotlib.pyplot as plt\n",
    "fig = plt.figure(figsize=(50, 50))\n",
    "\n",
    "plt.subplot(4, 2, 1)\n",
    "img = vis.plot_rgb_img(sample_imgs[indices[0]],\n",
    "                       bands=[3,2,0],\n",
    "                       contrast=True,\n",
    "                       onlyreturn=True)\n",
    "plt.imshow(img)\n",
    "plt.subplot(4, 2, 2)\n",
    "plt.imshow(label_imgs[indices[0]])\n",
    "\n",
    "plt.subplot(4, 2, 3)\n",
    "img = vis.plot_rgb_img(sample_imgs[indices[1]],\n",
    "                       bands=[3,2,0],\n",
    "                       contrast=True,\n",
    "                       onlyreturn=True)\n",
    "plt.imshow(img)\n",
    "plt.subplot(4, 2, 4)\n",
    "plt.imshow(label_imgs[indices[1]])\n",
    "\n",
    "plt.subplot(4, 2, 5)\n",
    "img = vis.plot_rgb_img(sample_imgs[indices[2]],\n",
    "                       bands=[3,2,0],\n",
    "                       contrast=True,\n",
    "                       onlyreturn=True)\n",
    "plt.imshow(img)\n",
    "plt.subplot(4, 2, 6)\n",
    "plt.imshow(label_imgs[indices[2]])\n",
    "\n",
    "plt.subplot(4, 2, 7)\n",
    "img = vis.plot_rgb_img(sample_imgs[indices[3]],\n",
    "                       bands=[3,2,0],\n",
    "                       contrast=True,\n",
    "                       onlyreturn=True)\n",
    "plt.imshow(img)\n",
    "plt.subplot(4, 2, 8)\n",
    "plt.imshow(label_imgs[indices[3]])\n",
    "\n",
    "plt.show()\n"
   ]
  },
  {
   "cell_type": "code",
   "execution_count": null,
   "metadata": {},
   "outputs": [],
   "source": [
    "dataset_description = {'years': 2018,\n",
    "                       'range': {\"min\":0, \"max\":1},\n",
    "                       'standardization': 'norm_range',\n",
    "                       'indexes_to_compute': 'none',\n",
    "                       'bands': ['b1', 'b2', 'b3', 'b4'],\n",
    "                       'sensor': 'Worldview',\n",
    "                       'classes': ['nodata','nopalm', 'palm'],\n",
    "                       'img_no_data': -1,\n",
    "                       'chip_size': 572,\n",
    "                       'tolerance_nodata': .9,\n",
    "                       'notes': 'Palm experiments.'}"
   ]
  },
  {
   "cell_type": "code",
   "execution_count": null,
   "metadata": {},
   "outputs": [],
   "source": [
    "vis.plot_image_histogram(sample_imgs[indices[0]], cmap=[\"green\", \"red\", \"cyan\", \"blue\"],\n",
    "                         title=\"Normalized Raster\", legend=dataset_description['bands'])"
   ]
  },
  {
   "cell_type": "code",
   "execution_count": null,
   "metadata": {
    "colab": {},
    "colab_type": "code",
    "id": "7T7XIgGm-nXt"
   },
   "outputs": [],
   "source": [
    "output_ds = \"../data/training2\"\n",
    "ds_file_name = \"dataset\"\n",
    "model_dir = '../data/training2/model'"
   ]
  },
  {
   "cell_type": "code",
   "execution_count": null,
   "metadata": {},
   "outputs": [],
   "source": [
    "train_tfrecord = os.path.join(output_ds, 'dataset_train.tfrecord')\n",
    "test_tfrecord = os.path.join(output_ds, 'dataset_test.tfrecord')\n",
    "val_dataset = os.path.join(output_ds, 'dataset_valid.npz')"
   ]
  },
  {
   "cell_type": "code",
   "execution_count": null,
   "metadata": {
    "colab": {
     "base_uri": "https://localhost:8080/",
     "height": 34
    },
    "colab_type": "code",
    "id": "rFalI2cpvQ6n",
    "outputId": "c5629f60-4632-446e-997f-b4ed148ec693"
   },
   "outputs": [],
   "source": [
    "generator = dg.DatasetGenerator(sample_imgs,\n",
    "                                label_imgs,\n",
    "                                strategy='fileset',\n",
    "                                description=dataset_description)\n",
    "params = {'win_size': dataset_description['chip_size'], 'overlap': (0,0)}\n",
    "generator.generate_chips(params)\n",
    "chip_struct = generator.get_samples()"
   ]
  },
  {
   "cell_type": "code",
   "execution_count": null,
   "metadata": {
    "colab": {
     "base_uri": "https://localhost:8080/",
     "height": 52
    },
    "colab_type": "code",
    "id": "w_UnNzuMvnjI",
    "outputId": "227fd547-7211-47d2-92b3-7ee65e7fe46d"
   },
   "outputs": [],
   "source": [
    "generator.shuffle_ds()\n",
    "generator.split_ds(perc_test=10, perc_val=10)"
   ]
  },
  {
   "cell_type": "code",
   "execution_count": null,
   "metadata": {},
   "outputs": [],
   "source": [
    "chip_struct = generator.get_samples()\n",
    "print(chip_struct.keys())"
   ]
  },
  {
   "cell_type": "code",
   "execution_count": null,
   "metadata": {
    "colab": {
     "base_uri": "https://localhost:8080/",
     "height": 1000
    },
    "colab_type": "code",
    "id": "9Cil8xEPB9JI",
    "outputId": "0bd8edd5-48a6-4448-f990-f1e4a24e0d81"
   },
   "outputs": [],
   "source": [
    "generator.save_to_disk(output_ds, ds_file_name)"
   ]
  },
  {
   "cell_type": "code",
   "execution_count": null,
   "metadata": {
    "colab": {},
    "colab_type": "code",
    "id": "vtRr5nZjDFjT"
   },
   "outputs": [],
   "source": [
    "params = {\n",
    "    'network': 'unet',\n",
    "    'epochs': 10000,\n",
    "    'batch_size': 4,\n",
    "    'chip_size': dataset_description['chip_size'],\n",
    "    'bands': 4,\n",
    "    'learning_rate': 0.01,\n",
    "    'learning_rate_decay': True,\n",
    "    'decay_rate': 0.999,\n",
    "    'l2_reg_rate': 0.0005,\n",
    "    'chips_tensorboard': 2,\n",
    "    'loss_func': 'avg_soft_dice',\n",
    "    'data_aug_ops': ['rot90', 'rot180', 'rot270', 'flip_left_right',\n",
    "                     'flip_up_down', 'flip_transpose'],\n",
    "    'data_aug_per_chip': 4,\n",
    "    'num_classes': 3,\n",
    "    'class_names': ['nodata', 'nopalm', 'palm'],\n",
    "    'num_compositions': 1,\n",
    "    'bands_plot': [[3, 2, 0]],\n",
    "    'Notes': 'Palm experiment.'\n",
    "}"
   ]
  },
  {
   "cell_type": "code",
   "execution_count": null,
   "metadata": {
    "colab": {
     "base_uri": "https://localhost:8080/",
     "height": 1000
    },
    "colab_type": "code",
    "id": "T0oQTQXbFG5q",
    "outputId": "279cbcdb-41d2-46aa-ceb9-a76144efd981"
   },
   "outputs": [],
   "source": [
    "model = mb.ModelBuilder(params)"
   ]
  },
  {
   "cell_type": "code",
   "execution_count": null,
   "metadata": {},
   "outputs": [],
   "source": [
    "%%capture output\n",
    "model.train(train_tfrecord, test_tfrecord, model_dir)"
   ]
  },
  {
   "cell_type": "code",
   "execution_count": null,
   "metadata": {
    "colab": {},
    "colab_type": "code",
    "id": "wiUtC8NF8Y8W"
   },
   "outputs": [],
   "source": [
    "model = mb.ModelBuilder(model_dir)\n",
    "dataset = np.load(val_dataset)\n",
    "model.validate(dataset['chips'], dataset['labels'], model_dir, exclude_classes=[])"
   ]
  },
  {
   "cell_type": "code",
   "execution_count": null,
   "metadata": {
    "colab": {},
    "colab_type": "code",
    "id": "34zlniEAl49F"
   },
   "outputs": [],
   "source": [
    "# download = drive_auth.CreateFile({'id': '1AT-An70SGEGbgs9MOpWO3j1J39w6Fvv9'})\n",
    "# download.GetContentFile('PDigital2018_22563_shp.zip')\n",
    "# !unzip PDigital2018_22563_shp.zip"
   ]
  },
  {
   "cell_type": "code",
   "execution_count": null,
   "metadata": {
    "colab": {},
    "colab_type": "code",
    "id": "EOYA9_vI7IBw"
   },
   "outputs": [],
   "source": [
    " test_raster_file = '../data/cocais.tif'\n",
    " #test_shape_file = 'resources/2018/PDigital2018_22563__pol.shp'"
   ]
  },
  {
   "cell_type": "code",
   "execution_count": null,
   "metadata": {
    "colab": {},
    "colab_type": "code",
    "id": "kAKV0Laf8Liv"
   },
   "outputs": [],
   "source": [
    "#out_labels_test = \"resources/labels_test.tiff\""
   ]
  },
  {
   "cell_type": "raw",
   "metadata": {
    "colab": {},
    "colab_type": "code",
    "id": "-9Jm8PAj8Li5"
   },
   "source": [
    " rstzr = rasterizer.Rasterizer(test_shape_file,\n",
    "                               test_raster_file,\n",
    "                               class_column,\n",
    "                               classes_interest=classes_of_interest,\n",
    "                               non_class_name=non_class)\n",
    "\n",
    " rstzr.collect_class_names()\n",
    " rstzr.rasterize_layer()\n",
    " m_class_names = ['no_data'] + rstzr.get_class_names()\n",
    " rasterized_layer = rstzr.get_labeled_raster()"
   ]
  },
  {
   "cell_type": "raw",
   "metadata": {
    "colab": {},
    "colab_type": "code",
    "id": "ADrE4OxW8Li9"
   },
   "source": [
    "rstzr.save_labeled_raster_to_gtiff(out_labels_test)"
   ]
  },
  {
   "cell_type": "raw",
   "metadata": {
    "colab": {},
    "colab_type": "code",
    "id": "FRiC6E_T8LjG"
   },
   "source": [
    "vis.plot_labels(rasterized_layer, m_class_names, colors=['white', 'green', 'yellow'])"
   ]
  },
  {
   "cell_type": "code",
   "execution_count": null,
   "metadata": {
    "colab": {},
    "colab_type": "code",
    "id": "P6L7sd77P4LO"
   },
   "outputs": [],
   "source": [
    "preproc = prep.Preprocessor(test_raster_file, no_data=-1)\n",
    "preproc.standardize_image('norm_range', {\"min\":0, \"max\":1})\n",
    "raster_array = preproc.get_array_stacked_raster()\n",
    "\n",
    "params_cg = {'overlap': [184, 184],\n",
    "             'win_size': dataset_description['chip_size'],\n",
    "             'raster_array': raster_array}\n",
    "\n",
    "'''\n",
    "generator = dg.DatasetGenerator(raster_array,\n",
    "                                rasterized_layer,\n",
    "                                strategy='sequential',\n",
    "                                description=dataset_description)\n",
    "generator.generate_chips(params_cg)\n",
    "chip_struct = generator.get_samples()\n",
    "'''\n",
    "import deepgeo.dataset.sequential_chips as seqchips\n",
    "chip_struct = seqchips.SequentialChipGenerator(params_cg).generate_chips()"
   ]
  },
  {
   "cell_type": "code",
   "execution_count": null,
   "metadata": {
    "colab": {},
    "colab_type": "code",
    "id": "QTJYlJOXanUM"
   },
   "outputs": [],
   "source": [
    "vis.plot_chips(chip_struct, raster_array, bands=[3, 2, 0], contrast=True)"
   ]
  },
  {
   "cell_type": "code",
   "execution_count": null,
   "metadata": {
    "colab": {},
    "colab_type": "code",
    "id": "68SddkfWlUV2"
   },
   "outputs": [],
   "source": [
    "# trained_model = 'training_log'\n",
    "trained_model = model_dir\n",
    "\n",
    "model = mb.ModelBuilder(trained_model)\n",
    "chips = model.predict(chip_struct, model_dir=trained_model)"
   ]
  },
  {
   "cell_type": "code",
   "execution_count": null,
   "metadata": {},
   "outputs": [],
   "source": [
    "chips.keys()"
   ]
  },
  {
   "cell_type": "code",
   "execution_count": null,
   "metadata": {
    "colab": {},
    "colab_type": "code",
    "id": "CLOQdRVvl0oP"
   },
   "outputs": [],
   "source": [
    "  output_pred = \"../data/training2/probabilities.tif\"\n",
    "  gf.write_pred_chips(output_pred, test_raster_file, chips, chip_key='probabilities')"
   ]
  },
  {
   "cell_type": "code",
   "execution_count": null,
   "metadata": {
    "colab": {},
    "colab_type": "code",
    "id": "_tu74vXOmRfU"
   },
   "outputs": [],
   "source": [
    "pred_rarr = gdal.Open(output_pred).ReadAsArray()\n",
    "vis.plot_labels(pred_rarr, params['class_names'], colors=['green', 'yellow'], title='Prediction')"
   ]
  }
 ],
 "metadata": {
  "accelerator": "GPU",
  "colab": {
   "collapsed_sections": [],
   "machine_shape": "hm",
   "name": "experimento_palmeiras",
   "provenance": []
  },
  "kernelspec": {
   "display_name": "Python 3",
   "language": "python",
   "name": "python3"
  },
  "language_info": {
   "codemirror_mode": {
    "name": "ipython",
    "version": 3
   },
   "file_extension": ".py",
   "mimetype": "text/x-python",
   "name": "python",
   "nbconvert_exporter": "python",
   "pygments_lexer": "ipython3",
   "version": "3.6.9"
  }
 },
 "nbformat": 4,
 "nbformat_minor": 4
}
